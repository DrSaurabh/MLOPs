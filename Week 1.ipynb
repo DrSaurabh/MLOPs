{
 "cells": [
  {
   "cell_type": "code",
   "execution_count": 19,
   "id": "21424609",
   "metadata": {
    "ExecuteTime": {
     "end_time": "2024-05-15T08:48:25.525046Z",
     "start_time": "2024-05-15T08:48:25.519077Z"
    }
   },
   "outputs": [],
   "source": [
    "import pandas as pd\n",
    "from sklearn.feature_extraction import DictVectorizer\n",
    "from sklearn.linear_model import LinearRegression\n",
    "from sklearn.metrics import root_mean_squared_error"
   ]
  },
  {
   "cell_type": "markdown",
   "id": "126422b4",
   "metadata": {},
   "source": [
    "# Downloading the data "
   ]
  },
  {
   "cell_type": "code",
   "execution_count": 2,
   "id": "ab778501",
   "metadata": {
    "ExecuteTime": {
     "end_time": "2024-05-15T08:38:54.385580Z",
     "start_time": "2024-05-15T08:38:54.019000Z"
    }
   },
   "outputs": [
    {
     "data": {
      "text/html": [
       "<div>\n",
       "<style scoped>\n",
       "    .dataframe tbody tr th:only-of-type {\n",
       "        vertical-align: middle;\n",
       "    }\n",
       "\n",
       "    .dataframe tbody tr th {\n",
       "        vertical-align: top;\n",
       "    }\n",
       "\n",
       "    .dataframe thead th {\n",
       "        text-align: right;\n",
       "    }\n",
       "</style>\n",
       "<table border=\"1\" class=\"dataframe\">\n",
       "  <thead>\n",
       "    <tr style=\"text-align: right;\">\n",
       "      <th></th>\n",
       "      <th>VendorID</th>\n",
       "      <th>tpep_pickup_datetime</th>\n",
       "      <th>tpep_dropoff_datetime</th>\n",
       "      <th>passenger_count</th>\n",
       "      <th>trip_distance</th>\n",
       "      <th>RatecodeID</th>\n",
       "      <th>store_and_fwd_flag</th>\n",
       "      <th>PULocationID</th>\n",
       "      <th>DOLocationID</th>\n",
       "      <th>payment_type</th>\n",
       "      <th>fare_amount</th>\n",
       "      <th>extra</th>\n",
       "      <th>mta_tax</th>\n",
       "      <th>tip_amount</th>\n",
       "      <th>tolls_amount</th>\n",
       "      <th>improvement_surcharge</th>\n",
       "      <th>total_amount</th>\n",
       "      <th>congestion_surcharge</th>\n",
       "      <th>airport_fee</th>\n",
       "    </tr>\n",
       "  </thead>\n",
       "  <tbody>\n",
       "    <tr>\n",
       "      <th>0</th>\n",
       "      <td>2</td>\n",
       "      <td>2023-01-01 00:32:10</td>\n",
       "      <td>2023-01-01 00:40:36</td>\n",
       "      <td>1.0</td>\n",
       "      <td>0.97</td>\n",
       "      <td>1.0</td>\n",
       "      <td>N</td>\n",
       "      <td>161</td>\n",
       "      <td>141</td>\n",
       "      <td>2</td>\n",
       "      <td>9.3</td>\n",
       "      <td>1.00</td>\n",
       "      <td>0.5</td>\n",
       "      <td>0.00</td>\n",
       "      <td>0.0</td>\n",
       "      <td>1.0</td>\n",
       "      <td>14.30</td>\n",
       "      <td>2.5</td>\n",
       "      <td>0.00</td>\n",
       "    </tr>\n",
       "    <tr>\n",
       "      <th>1</th>\n",
       "      <td>2</td>\n",
       "      <td>2023-01-01 00:55:08</td>\n",
       "      <td>2023-01-01 01:01:27</td>\n",
       "      <td>1.0</td>\n",
       "      <td>1.10</td>\n",
       "      <td>1.0</td>\n",
       "      <td>N</td>\n",
       "      <td>43</td>\n",
       "      <td>237</td>\n",
       "      <td>1</td>\n",
       "      <td>7.9</td>\n",
       "      <td>1.00</td>\n",
       "      <td>0.5</td>\n",
       "      <td>4.00</td>\n",
       "      <td>0.0</td>\n",
       "      <td>1.0</td>\n",
       "      <td>16.90</td>\n",
       "      <td>2.5</td>\n",
       "      <td>0.00</td>\n",
       "    </tr>\n",
       "    <tr>\n",
       "      <th>2</th>\n",
       "      <td>2</td>\n",
       "      <td>2023-01-01 00:25:04</td>\n",
       "      <td>2023-01-01 00:37:49</td>\n",
       "      <td>1.0</td>\n",
       "      <td>2.51</td>\n",
       "      <td>1.0</td>\n",
       "      <td>N</td>\n",
       "      <td>48</td>\n",
       "      <td>238</td>\n",
       "      <td>1</td>\n",
       "      <td>14.9</td>\n",
       "      <td>1.00</td>\n",
       "      <td>0.5</td>\n",
       "      <td>15.00</td>\n",
       "      <td>0.0</td>\n",
       "      <td>1.0</td>\n",
       "      <td>34.90</td>\n",
       "      <td>2.5</td>\n",
       "      <td>0.00</td>\n",
       "    </tr>\n",
       "    <tr>\n",
       "      <th>3</th>\n",
       "      <td>1</td>\n",
       "      <td>2023-01-01 00:03:48</td>\n",
       "      <td>2023-01-01 00:13:25</td>\n",
       "      <td>0.0</td>\n",
       "      <td>1.90</td>\n",
       "      <td>1.0</td>\n",
       "      <td>N</td>\n",
       "      <td>138</td>\n",
       "      <td>7</td>\n",
       "      <td>1</td>\n",
       "      <td>12.1</td>\n",
       "      <td>7.25</td>\n",
       "      <td>0.5</td>\n",
       "      <td>0.00</td>\n",
       "      <td>0.0</td>\n",
       "      <td>1.0</td>\n",
       "      <td>20.85</td>\n",
       "      <td>0.0</td>\n",
       "      <td>1.25</td>\n",
       "    </tr>\n",
       "    <tr>\n",
       "      <th>4</th>\n",
       "      <td>2</td>\n",
       "      <td>2023-01-01 00:10:29</td>\n",
       "      <td>2023-01-01 00:21:19</td>\n",
       "      <td>1.0</td>\n",
       "      <td>1.43</td>\n",
       "      <td>1.0</td>\n",
       "      <td>N</td>\n",
       "      <td>107</td>\n",
       "      <td>79</td>\n",
       "      <td>1</td>\n",
       "      <td>11.4</td>\n",
       "      <td>1.00</td>\n",
       "      <td>0.5</td>\n",
       "      <td>3.28</td>\n",
       "      <td>0.0</td>\n",
       "      <td>1.0</td>\n",
       "      <td>19.68</td>\n",
       "      <td>2.5</td>\n",
       "      <td>0.00</td>\n",
       "    </tr>\n",
       "  </tbody>\n",
       "</table>\n",
       "</div>"
      ],
      "text/plain": [
       "   VendorID tpep_pickup_datetime tpep_dropoff_datetime  passenger_count  \\\n",
       "0         2  2023-01-01 00:32:10   2023-01-01 00:40:36              1.0   \n",
       "1         2  2023-01-01 00:55:08   2023-01-01 01:01:27              1.0   \n",
       "2         2  2023-01-01 00:25:04   2023-01-01 00:37:49              1.0   \n",
       "3         1  2023-01-01 00:03:48   2023-01-01 00:13:25              0.0   \n",
       "4         2  2023-01-01 00:10:29   2023-01-01 00:21:19              1.0   \n",
       "\n",
       "   trip_distance  RatecodeID store_and_fwd_flag  PULocationID  DOLocationID  \\\n",
       "0           0.97         1.0                  N           161           141   \n",
       "1           1.10         1.0                  N            43           237   \n",
       "2           2.51         1.0                  N            48           238   \n",
       "3           1.90         1.0                  N           138             7   \n",
       "4           1.43         1.0                  N           107            79   \n",
       "\n",
       "   payment_type  fare_amount  extra  mta_tax  tip_amount  tolls_amount  \\\n",
       "0             2          9.3   1.00      0.5        0.00           0.0   \n",
       "1             1          7.9   1.00      0.5        4.00           0.0   \n",
       "2             1         14.9   1.00      0.5       15.00           0.0   \n",
       "3             1         12.1   7.25      0.5        0.00           0.0   \n",
       "4             1         11.4   1.00      0.5        3.28           0.0   \n",
       "\n",
       "   improvement_surcharge  total_amount  congestion_surcharge  airport_fee  \n",
       "0                    1.0         14.30                   2.5         0.00  \n",
       "1                    1.0         16.90                   2.5         0.00  \n",
       "2                    1.0         34.90                   2.5         0.00  \n",
       "3                    1.0         20.85                   0.0         1.25  \n",
       "4                    1.0         19.68                   2.5         0.00  "
      ]
     },
     "execution_count": 2,
     "metadata": {},
     "output_type": "execute_result"
    }
   ],
   "source": [
    "jan_2023_yellow = pd.read_parquet(\"yellow_tripdata_2023-01.parquet\")\n",
    "jan_2023_yellow.head()"
   ]
  },
  {
   "cell_type": "code",
   "execution_count": 3,
   "id": "d8168153",
   "metadata": {
    "ExecuteTime": {
     "end_time": "2024-05-15T08:38:54.400684Z",
     "start_time": "2024-05-15T08:38:54.387583Z"
    }
   },
   "outputs": [
    {
     "name": "stdout",
     "output_type": "stream",
     "text": [
      "19\n"
     ]
    }
   ],
   "source": [
    "print(len(jan_2023_yellow.columns))"
   ]
  },
  {
   "cell_type": "markdown",
   "id": "e864b0bb",
   "metadata": {},
   "source": [
    "# Computing Duration"
   ]
  },
  {
   "cell_type": "code",
   "execution_count": 4,
   "id": "82ad01bc",
   "metadata": {
    "ExecuteTime": {
     "end_time": "2024-05-15T08:38:54.416684Z",
     "start_time": "2024-05-15T08:38:54.402686Z"
    }
   },
   "outputs": [],
   "source": [
    "# jan_2023_yellow.dtypes"
   ]
  },
  {
   "cell_type": "code",
   "execution_count": 5,
   "id": "f14e5949",
   "metadata": {
    "ExecuteTime": {
     "end_time": "2024-05-15T08:38:54.463367Z",
     "start_time": "2024-05-15T08:38:54.418686Z"
    }
   },
   "outputs": [
    {
     "data": {
      "text/plain": [
       "0   0 days 00:08:26\n",
       "1   0 days 00:06:19\n",
       "2   0 days 00:12:45\n",
       "3   0 days 00:09:37\n",
       "4   0 days 00:10:50\n",
       "Name: duration, dtype: timedelta64[us]"
      ]
     },
     "execution_count": 5,
     "metadata": {},
     "output_type": "execute_result"
    }
   ],
   "source": [
    "jan_2023_yellow['duration'] = jan_2023_yellow['tpep_dropoff_datetime'] - jan_2023_yellow['tpep_pickup_datetime']\n",
    "jan_2023_yellow['duration'].head()"
   ]
  },
  {
   "cell_type": "code",
   "execution_count": 6,
   "id": "d70b828c",
   "metadata": {
    "ExecuteTime": {
     "end_time": "2024-05-15T08:38:54.520290Z",
     "start_time": "2024-05-15T08:38:54.464370Z"
    }
   },
   "outputs": [
    {
     "data": {
      "text/plain": [
       "Timedelta('0 days 00:42:35.661074')"
      ]
     },
     "execution_count": 6,
     "metadata": {},
     "output_type": "execute_result"
    }
   ],
   "source": [
    "jan_2023_yellow['duration'].std()"
   ]
  },
  {
   "cell_type": "code",
   "execution_count": 7,
   "id": "6c70fea1",
   "metadata": {
    "ExecuteTime": {
     "end_time": "2024-05-15T08:39:00.052972Z",
     "start_time": "2024-05-15T08:38:54.521384Z"
    }
   },
   "outputs": [
    {
     "data": {
      "text/plain": [
       "42.59435124195458"
      ]
     },
     "execution_count": 7,
     "metadata": {},
     "output_type": "execute_result"
    }
   ],
   "source": [
    "jan_2023_yellow['duration']=jan_2023_yellow['duration'].apply(lambda x: x.total_seconds() / 60)\n",
    "jan_2023_yellow['duration'].std()"
   ]
  },
  {
   "cell_type": "code",
   "execution_count": 8,
   "id": "9a741dd9",
   "metadata": {
    "ExecuteTime": {
     "end_time": "2024-05-15T08:39:00.063807Z",
     "start_time": "2024-05-15T08:39:00.054690Z"
    }
   },
   "outputs": [
    {
     "data": {
      "text/plain": [
       "0           8.433333\n",
       "1           6.316667\n",
       "2          12.750000\n",
       "3           9.616667\n",
       "4          10.833333\n",
       "             ...    \n",
       "3066761    13.983333\n",
       "3066762    19.450000\n",
       "3066763    24.516667\n",
       "3066764    13.000000\n",
       "3066765    14.400000\n",
       "Name: duration, Length: 3066766, dtype: float64"
      ]
     },
     "execution_count": 8,
     "metadata": {},
     "output_type": "execute_result"
    }
   ],
   "source": [
    "jan_2023_yellow['duration']"
   ]
  },
  {
   "cell_type": "markdown",
   "id": "36786691",
   "metadata": {},
   "source": [
    "# Dropping Outliers"
   ]
  },
  {
   "cell_type": "code",
   "execution_count": 9,
   "id": "a6d66b55",
   "metadata": {
    "ExecuteTime": {
     "end_time": "2024-05-15T08:39:00.086708Z",
     "start_time": "2024-05-15T08:39:00.065716Z"
    }
   },
   "outputs": [
    {
     "data": {
      "text/plain": [
       "(10029.183333333332, -29.2)"
      ]
     },
     "execution_count": 9,
     "metadata": {},
     "output_type": "execute_result"
    }
   ],
   "source": [
    "jan_2023_yellow['duration'].max(),jan_2023_yellow['duration'].min()"
   ]
  },
  {
   "cell_type": "code",
   "execution_count": 10,
   "id": "1c191664",
   "metadata": {
    "ExecuteTime": {
     "end_time": "2024-05-15T08:39:00.634629Z",
     "start_time": "2024-05-15T08:39:00.088709Z"
    }
   },
   "outputs": [
    {
     "data": {
      "text/plain": [
       "0.9811146334607858"
      ]
     },
     "execution_count": 10,
     "metadata": {},
     "output_type": "execute_result"
    }
   ],
   "source": [
    "original_rows=len(jan_2023_yellow)\n",
    "jan_2023_yellow = jan_2023_yellow[jan_2023_yellow['duration'] < 60]\n",
    "jan_2023_yellow = jan_2023_yellow[jan_2023_yellow['duration'] > 1]\n",
    "final_rows=len(jan_2023_yellow)\n",
    "final_rows/original_rows"
   ]
  },
  {
   "cell_type": "markdown",
   "id": "ea7333ab",
   "metadata": {},
   "source": [
    "# One-hot encoding"
   ]
  },
  {
   "cell_type": "code",
   "execution_count": 11,
   "id": "e084e63d",
   "metadata": {
    "ExecuteTime": {
     "end_time": "2024-05-15T08:39:01.749509Z",
     "start_time": "2024-05-15T08:39:00.636157Z"
    }
   },
   "outputs": [
    {
     "data": {
      "text/html": [
       "<div>\n",
       "<style scoped>\n",
       "    .dataframe tbody tr th:only-of-type {\n",
       "        vertical-align: middle;\n",
       "    }\n",
       "\n",
       "    .dataframe tbody tr th {\n",
       "        vertical-align: top;\n",
       "    }\n",
       "\n",
       "    .dataframe thead th {\n",
       "        text-align: right;\n",
       "    }\n",
       "</style>\n",
       "<table border=\"1\" class=\"dataframe\">\n",
       "  <thead>\n",
       "    <tr style=\"text-align: right;\">\n",
       "      <th></th>\n",
       "      <th>PULocationID</th>\n",
       "      <th>DOLocationID</th>\n",
       "    </tr>\n",
       "  </thead>\n",
       "  <tbody>\n",
       "    <tr>\n",
       "      <th>0</th>\n",
       "      <td>161</td>\n",
       "      <td>141</td>\n",
       "    </tr>\n",
       "    <tr>\n",
       "      <th>1</th>\n",
       "      <td>43</td>\n",
       "      <td>237</td>\n",
       "    </tr>\n",
       "    <tr>\n",
       "      <th>2</th>\n",
       "      <td>48</td>\n",
       "      <td>238</td>\n",
       "    </tr>\n",
       "    <tr>\n",
       "      <th>3</th>\n",
       "      <td>138</td>\n",
       "      <td>7</td>\n",
       "    </tr>\n",
       "    <tr>\n",
       "      <th>4</th>\n",
       "      <td>107</td>\n",
       "      <td>79</td>\n",
       "    </tr>\n",
       "    <tr>\n",
       "      <th>...</th>\n",
       "      <td>...</td>\n",
       "      <td>...</td>\n",
       "    </tr>\n",
       "    <tr>\n",
       "      <th>3066761</th>\n",
       "      <td>107</td>\n",
       "      <td>48</td>\n",
       "    </tr>\n",
       "    <tr>\n",
       "      <th>3066762</th>\n",
       "      <td>112</td>\n",
       "      <td>75</td>\n",
       "    </tr>\n",
       "    <tr>\n",
       "      <th>3066763</th>\n",
       "      <td>114</td>\n",
       "      <td>239</td>\n",
       "    </tr>\n",
       "    <tr>\n",
       "      <th>3066764</th>\n",
       "      <td>230</td>\n",
       "      <td>79</td>\n",
       "    </tr>\n",
       "    <tr>\n",
       "      <th>3066765</th>\n",
       "      <td>262</td>\n",
       "      <td>143</td>\n",
       "    </tr>\n",
       "  </tbody>\n",
       "</table>\n",
       "<p>3008849 rows × 2 columns</p>\n",
       "</div>"
      ],
      "text/plain": [
       "        PULocationID DOLocationID\n",
       "0                161          141\n",
       "1                 43          237\n",
       "2                 48          238\n",
       "3                138            7\n",
       "4                107           79\n",
       "...              ...          ...\n",
       "3066761          107           48\n",
       "3066762          112           75\n",
       "3066763          114          239\n",
       "3066764          230           79\n",
       "3066765          262          143\n",
       "\n",
       "[3008849 rows x 2 columns]"
      ]
     },
     "execution_count": 11,
     "metadata": {},
     "output_type": "execute_result"
    }
   ],
   "source": [
    "required_columns = ['PULocationID','DOLocationID']\n",
    "reduced_columns_df = pd.DataFrame()\n",
    "for c in required_columns:\n",
    "    reduced_columns_df[c] = jan_2023_yellow[c].astype('str')\n",
    "reduced_columns_df"
   ]
  },
  {
   "cell_type": "code",
   "execution_count": 12,
   "id": "ea3c0cac",
   "metadata": {
    "ExecuteTime": {
     "end_time": "2024-05-15T08:39:12.308158Z",
     "start_time": "2024-05-15T08:39:01.750509Z"
    }
   },
   "outputs": [
    {
     "data": {
      "text/plain": [
       "<3008849x515 sparse matrix of type '<class 'numpy.float64'>'\n",
       "\twith 6017698 stored elements in Compressed Sparse Row format>"
      ]
     },
     "execution_count": 12,
     "metadata": {},
     "output_type": "execute_result"
    }
   ],
   "source": [
    "dict_vec = DictVectorizer()\n",
    "training_data_dict = reduced_columns_df.to_dict(orient='records')\n",
    "X_train = dict_vec.fit_transform(training_data_dict)\n",
    "X_train\n",
    "# takes about half a minute"
   ]
  },
  {
   "cell_type": "markdown",
   "id": "8756396b",
   "metadata": {},
   "source": [
    "# Train a model"
   ]
  },
  {
   "cell_type": "code",
   "execution_count": 13,
   "id": "1a975195",
   "metadata": {
    "ExecuteTime": {
     "end_time": "2024-05-15T08:39:12.323331Z",
     "start_time": "2024-05-15T08:39:12.309685Z"
    }
   },
   "outputs": [
    {
     "data": {
      "text/plain": [
       "array([ 8.43333333,  6.31666667, 12.75      , ..., 24.51666667,\n",
       "       13.        , 14.4       ])"
      ]
     },
     "execution_count": 13,
     "metadata": {},
     "output_type": "execute_result"
    }
   ],
   "source": [
    "y_train = jan_2023_yellow['duration'].values\n",
    "y_train"
   ]
  },
  {
   "cell_type": "code",
   "execution_count": null,
   "id": "586aa989",
   "metadata": {
    "ExecuteTime": {
     "end_time": "2024-05-15T08:40:50.082705Z",
     "start_time": "2024-05-15T08:40:18.782893Z"
    }
   },
   "outputs": [],
   "source": [
    "model = LinearRegression()\n",
    "model.fit(X_train, y_train)"
   ]
  },
  {
   "cell_type": "code",
   "execution_count": 20,
   "id": "cac2826c",
   "metadata": {
    "ExecuteTime": {
     "end_time": "2024-05-15T08:48:30.416758Z",
     "start_time": "2024-05-15T08:48:30.352292Z"
    }
   },
   "outputs": [
    {
     "data": {
      "text/plain": [
       "7.647512040017662"
      ]
     },
     "execution_count": 20,
     "metadata": {},
     "output_type": "execute_result"
    }
   ],
   "source": [
    "train_preds = model.predict(X_train)\n",
    "train_rmse = root_mean_squared_error(train_preds, y_train)\n",
    "train_rmse"
   ]
  },
  {
   "cell_type": "markdown",
   "id": "00521901",
   "metadata": {},
   "source": [
    "# Evaluate the model"
   ]
  },
  {
   "cell_type": "code",
   "execution_count": null,
   "id": "7f5ca3d1",
   "metadata": {
    "ExecuteTime": {
     "end_time": "2024-05-15T09:33:13.667665Z",
     "start_time": "2024-05-15T09:32:55.475073Z"
    }
   },
   "outputs": [],
   "source": [
    "def load_data(path):\n",
    "    data = pd.read_parquet(path)\n",
    "    print('data read in')\n",
    "    \n",
    "    # Add duration\n",
    "    data['duration'] = data['tpep_dropoff_datetime'] - data['tpep_pickup_datetime']\n",
    "    data['duration'] = data['duration'].apply(lambda x: x.total_seconds() / 60)\n",
    "    print('duration of trip calculated (in minutes)')\n",
    "    \n",
    "    # Outliers\n",
    "    original_rows=len(data)\n",
    "    data = data[data['duration'] < 60]\n",
    "    data = data[data['duration'] > 1]\n",
    "    final_rows=len(data)\n",
    "    retained_data = final_rows/original_rows\n",
    "    print(f'Outliers removed. {100*retained_data:.2f}% data retained')\n",
    "    \n",
    "    # ground_truth\n",
    "    ground_truth = data['duration'].values    \n",
    "    return data, ground_truth\n",
    "    \n",
    "def prep_as_model_input(data, dict_vec=None, to_fit=False):\n",
    "    \n",
    "    required_columns = ['PULocationID','DOLocationID']\n",
    "    reduced_columns_df = pd.DataFrame()\n",
    "    for c in required_columns: reduced_columns_df[c] = data[c].astype('str')        \n",
    "    X_ = reduced_columns_df.to_dict(orient='records')        \n",
    "    if to_fit:\n",
    "        dict_vec = DictVectorizer()    \n",
    "        X_ = dict_vec.fit_transform(X_)\n",
    "    else:\n",
    "        X_ = dict_vec.transform(X_)\n",
    "    return X_, dict_vec    "
   ]
  },
  {
   "cell_type": "code",
   "execution_count": 26,
   "id": "33e10582",
   "metadata": {
    "ExecuteTime": {
     "end_time": "2024-05-15T09:33:13.667665Z",
     "start_time": "2024-05-15T09:32:55.475073Z"
    }
   },
   "outputs": [
    {
     "name": "stdout",
     "output_type": "stream",
     "text": [
      "data read in\n",
      "duration of trip calculated (in minutes)\n",
      "Outliers removed. 98.00% data retained\n"
     ]
    }
   ],
   "source": [
    "val_df, val_target = load_data('yellow_tripdata_2023-02.parquet')    \n",
    "X_val, _ = prep_as_model_input(data=val_df, dict_vec=dict_vec)"
   ]
  },
  {
   "cell_type": "code",
   "execution_count": 27,
   "id": "b97d967e",
   "metadata": {
    "ExecuteTime": {
     "end_time": "2024-05-15T09:34:28.302321Z",
     "start_time": "2024-05-15T09:34:28.249207Z"
    }
   },
   "outputs": [
    {
     "data": {
      "text/plain": [
       "7.80839910042855"
      ]
     },
     "execution_count": 27,
     "metadata": {},
     "output_type": "execute_result"
    }
   ],
   "source": [
    "val_preds = model.predict(X_val)\n",
    "val_rmse = root_mean_squared_error(val_preds, val_target)\n",
    "val_rmse"
   ]
  },
  {
   "cell_type": "code",
   "execution_count": null,
   "id": "dc49b3cd",
   "metadata": {},
   "outputs": [],
   "source": []
  },
  {
   "cell_type": "code",
   "execution_count": null,
   "id": "4341ba85",
   "metadata": {},
   "outputs": [],
   "source": []
  },
  {
   "cell_type": "code",
   "execution_count": null,
   "id": "82c3fff6",
   "metadata": {},
   "outputs": [],
   "source": []
  },
  {
   "cell_type": "code",
   "execution_count": null,
   "id": "b1566da6",
   "metadata": {},
   "outputs": [],
   "source": []
  }
 ],
 "metadata": {
  "kernelspec": {
   "display_name": "MLOPS-01-kernel",
   "language": "python",
   "name": "mlops-01-kernel"
  },
  "language_info": {
   "codemirror_mode": {
    "name": "ipython",
    "version": 3
   },
   "file_extension": ".py",
   "mimetype": "text/x-python",
   "name": "python",
   "nbconvert_exporter": "python",
   "pygments_lexer": "ipython3",
   "version": "3.9.19"
  },
  "toc": {
   "base_numbering": 1,
   "nav_menu": {},
   "number_sections": true,
   "sideBar": true,
   "skip_h1_title": false,
   "title_cell": "Table of Contents",
   "title_sidebar": "Contents",
   "toc_cell": false,
   "toc_position": {},
   "toc_section_display": true,
   "toc_window_display": true
  }
 },
 "nbformat": 4,
 "nbformat_minor": 5
}
